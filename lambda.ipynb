{
 "cells": [
  {
   "cell_type": "markdown",
   "id": "eb6a258f-37b5-4186-86af-69e4cc3bb058",
   "metadata": {},
   "source": [
    "lambda is single in-line function used only when we have to use function only once or function inside function\n",
    "syntex{ lambda arguments :expression}"
   ]
  },
  {
   "cell_type": "code",
   "execution_count": 12,
   "id": "5741f529-35dd-4bea-b55e-bcffb40df658",
   "metadata": {},
   "outputs": [],
   "source": [
    "a=lambda x,y :x+10*y"
   ]
  },
  {
   "cell_type": "code",
   "execution_count": 14,
   "id": "f8b3dc8a-e5d4-4dd7-bcc3-6d877d93e0ba",
   "metadata": {},
   "outputs": [
    {
     "name": "stdout",
     "output_type": "stream",
     "text": [
      "160\n"
     ]
    }
   ],
   "source": [
    "print(a(10,15))"
   ]
  },
  {
   "cell_type": "code",
   "execution_count": null,
   "id": "3c623806-0620-4b1c-8f6a-b1b9f723c513",
   "metadata": {},
   "outputs": [],
   "source": []
  },
  {
   "cell_type": "code",
   "execution_count": null,
   "id": "5f369190-7b84-4bcb-bb8e-60d8b8e9cc8c",
   "metadata": {},
   "outputs": [],
   "source": []
  },
  {
   "cell_type": "markdown",
   "id": "412fe93e-957b-4abb-9c82-76074154fb78",
   "metadata": {},
   "source": [
    "some inbuild functions {sorted map filter reduce }"
   ]
  },
  {
   "cell_type": "markdown",
   "id": "c1009ac4-e72c-4241-949f-24fadee9aeb4",
   "metadata": {},
   "source": [
    "1.sorted syntex var=sorted(data,key)"
   ]
  },
  {
   "cell_type": "code",
   "execution_count": null,
   "id": "b9a79a83-8065-4dbc-a303-7e1d356a351b",
   "metadata": {},
   "outputs": [],
   "source": []
  },
  {
   "cell_type": "code",
   "execution_count": null,
   "id": "0c57b25b-7531-4fbb-84f9-d37007415fd7",
   "metadata": {},
   "outputs": [],
   "source": []
  },
  {
   "cell_type": "code",
   "execution_count": 18,
   "id": "02b8c138-721b-4df9-be84-f09f06f78688",
   "metadata": {},
   "outputs": [
    {
     "name": "stdout",
     "output_type": "stream",
     "text": [
      "[(1, 5), (-2, 8), (3, 2), (9, 7)]\n",
      "[(-2, 8), (1, 5), (3, 2), (9, 7)]\n",
      "[(3, 2), (1, 5), (9, 7), (-2, 8)]\n"
     ]
    }
   ],
   "source": [
    "a=[(1,5),(-2,8),(3,2),(9,7)]\n",
    "sort=sorted(a) #sorted with first argument default\n",
    "sort2=sorted(a,key=lambda x:x[1]) #sorted with second argument according to key\n",
    "print(a)\n",
    "print(sort)\n",
    "print(sort2)"
   ]
  },
  {
   "cell_type": "code",
   "execution_count": null,
   "id": "d0be7507-d1f3-4cb1-80f5-3eb5cb8a7953",
   "metadata": {},
   "outputs": [],
   "source": []
  },
  {
   "cell_type": "code",
   "execution_count": null,
   "id": "610ecbc4-685a-435b-9136-8dba23507f70",
   "metadata": {},
   "outputs": [],
   "source": []
  },
  {
   "cell_type": "markdown",
   "id": "a65315d0-38b6-4280-b2f4-f4d03e0fb65c",
   "metadata": {},
   "source": [
    "2.map syntex  var= map(function,data)"
   ]
  },
  {
   "cell_type": "code",
   "execution_count": 19,
   "id": "428ff153-9bdf-4a9f-bb77-0657fbbb2f02",
   "metadata": {},
   "outputs": [],
   "source": [
    "b=[1,2,3,4,5,6]"
   ]
  },
  {
   "cell_type": "code",
   "execution_count": 20,
   "id": "2bdb4b47-3b81-47e4-a8dc-c159d9af2acb",
   "metadata": {},
   "outputs": [],
   "source": [
    "c=map(lambda x:x*x, b)"
   ]
  },
  {
   "cell_type": "code",
   "execution_count": 22,
   "id": "21661f6a-204c-499a-8c77-1dc8ffe5c6c2",
   "metadata": {},
   "outputs": [
    {
     "name": "stdout",
     "output_type": "stream",
     "text": [
      "[1, 2, 3, 4, 5, 6]\n",
      "[1, 4, 9, 16, 25, 36]\n"
     ]
    }
   ],
   "source": [
    "print(b)\n",
    "print(list(c))"
   ]
  },
  {
   "cell_type": "code",
   "execution_count": null,
   "id": "e1981bf4-bc18-4d23-9b49-76f17e05cac9",
   "metadata": {},
   "outputs": [],
   "source": []
  },
  {
   "cell_type": "code",
   "execution_count": null,
   "id": "a567f8ea-12a1-4ca8-a9b5-3a8e40aeef45",
   "metadata": {},
   "outputs": [],
   "source": []
  },
  {
   "cell_type": "markdown",
   "id": "213466b6-3d2f-4cdb-afc5-106c3b851f4b",
   "metadata": {},
   "source": [
    "3.reduce syntex  var= reduce(function,data)\n"
   ]
  },
  {
   "cell_type": "code",
   "execution_count": 27,
   "id": "ab4a2907-d349-4bbf-bce3-a7168eab0559",
   "metadata": {},
   "outputs": [
    {
     "name": "stdout",
     "output_type": "stream",
     "text": [
      "product :-24\n",
      "sum :-10\n"
     ]
    }
   ],
   "source": [
    "from functools import reduce\n",
    "d=[1,2,3,4]\n",
    "prod=reduce(lambda x,y:x*y,d)\n",
    "sum=reduce(lambda x,y:x+y,d)\n",
    "print(f\"product :-{prod}\")\n",
    "print(f\"sum :-{sum}\")"
   ]
  },
  {
   "cell_type": "code",
   "execution_count": null,
   "id": "d906471d-c0aa-4c45-83f3-280ea2b4373d",
   "metadata": {},
   "outputs": [],
   "source": []
  },
  {
   "cell_type": "code",
   "execution_count": null,
   "id": "faab5650-7783-464e-a34e-1e86b5c18fbf",
   "metadata": {},
   "outputs": [],
   "source": []
  }
 ],
 "metadata": {
  "kernelspec": {
   "display_name": "Python 3",
   "language": "python",
   "name": "python3"
  },
  "language_info": {
   "codemirror_mode": {
    "name": "ipython",
    "version": 3
   },
   "file_extension": ".py",
   "mimetype": "text/x-python",
   "name": "python",
   "nbconvert_exporter": "python",
   "pygments_lexer": "ipython3",
   "version": "3.8.8"
  }
 },
 "nbformat": 4,
 "nbformat_minor": 5
}
