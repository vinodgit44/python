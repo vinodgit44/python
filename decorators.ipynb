{
 "cells": [
  {
   "cell_type": "markdown",
   "id": "5f837340-a937-4d4c-96ef-1a11d9cf4418",
   "metadata": {},
   "source": [
    "decorators:-  Is  an function which takes other function as input and extends its behaviour\n",
    "\n",
    "types 1.function decorator\n",
    "              2. class decorator\n"
   ]
  },
  {
   "cell_type": "code",
   "execution_count": 21,
   "id": "1fc1b873-c5cb-4c4f-bfbe-8f397687c861",
   "metadata": {},
   "outputs": [
    {
     "name": "stdout",
     "output_type": "stream",
     "text": [
      "start\n",
      "rohan\n",
      "end\n"
     ]
    }
   ],
   "source": [
    "\n",
    "def decorator(func):\n",
    "    def wrapper():\n",
    "        print(\"start\")\n",
    "        func()\n",
    "        print(\"end\")\n",
    "        \n",
    "    return wrapper\n",
    "\n",
    "@decorator \n",
    "def printname():\n",
    "    print(\"rohan\")\n",
    "    \n",
    "\n",
    "# printname=decorator(printname)\n",
    "printname()\n"
   ]
  },
  {
   "cell_type": "markdown",
   "id": "9313d505-55ac-4f28-b4fe-d28de4da52e7",
   "metadata": {},
   "source": []
  },
  {
   "cell_type": "code",
   "execution_count": 22,
   "id": "9aae22ad-6cb6-436e-a23b-a1e16537aa38",
   "metadata": {},
   "outputs": [
    {
     "name": "stdout",
     "output_type": "stream",
     "text": [
      "start\n",
      "end\n",
      "Help on function wrapper in module __main__:\n",
      "\n",
      "wrapper(*args, **kwargs)\n",
      "\n",
      "None wrapper\n",
      "start\n",
      "rohan\n",
      "end\n"
     ]
    }
   ],
   "source": [
    "\n",
    "def decorator(func):\n",
    "    def wrapper(*args ,**kwargs):\n",
    "        print(\"start\")\n",
    "        result=func(*args ,**kwargs)\n",
    "        print(\"end\")\n",
    "        return result\n",
    "    return wrapper\n",
    "\n",
    "@decorator \n",
    "def add(x,y):\n",
    "    return x+y;\n",
    "    \n",
    "  \n",
    "# printname=decorator(printname)\n",
    "add(10,20)\n",
    "print(help(add),add.__name__)##function identity is changes \n",
    "\n",
    "\n"
   ]
  },
  {
   "cell_type": "markdown",
   "id": "4c6721e3-d5fd-425e-8ffe-b44043b19bb2",
   "metadata": {},
   "source": []
  },
  {
   "cell_type": "code",
   "execution_count": 19,
   "id": "a42d88c9-80a0-43bf-93c7-d23f750af20a",
   "metadata": {},
   "outputs": [
    {
     "name": "stdout",
     "output_type": "stream",
     "text": [
      "start\n",
      "end\n",
      "Help on function add in module __main__:\n",
      "\n",
      "add(x, y)\n",
      "\n",
      "None add\n"
     ]
    }
   ],
   "source": [
    "import functools\n",
    "def decorator(func):\n",
    "    @functools.wraps(func)\n",
    "    def wrapper(*args ,**kwargs):\n",
    "        print(\"start\")\n",
    "        result=func(*args ,**kwargs)\n",
    "        print(\"end\")\n",
    "        return result\n",
    "    return wrapper\n",
    "\n",
    "@decorator \n",
    "def add(x,y):\n",
    "    return x+y;\n",
    "    \n",
    "  \n",
    "# printname=decorator(printname)\n",
    "add(10,20)\n",
    "print(help(add),add.__name__)##function identity is preservedQA\n",
    "\n",
    "\n"
   ]
  },
  {
   "cell_type": "markdown",
   "id": "4fa48348-8e5a-447e-8b85-b3d1ce5d7dee",
   "metadata": {},
   "source": [
    "decorators with input arguments "
   ]
  },
  {
   "cell_type": "code",
   "execution_count": 34,
   "id": "dafff398-013c-44b5-a0dc-b103df398ad0",
   "metadata": {},
   "outputs": [
    {
     "name": "stdout",
     "output_type": "stream",
     "text": [
      "name is :- alex\n",
      "name is :- alex\n",
      "name is :- alex\n"
     ]
    }
   ],
   "source": [
    "import functools\n",
    "\n",
    "def repeat(num):\n",
    "    def function(func):\n",
    "        @functools.wraps(func)\n",
    "        def wrapper(*args,**kwargs):\n",
    "            for _ in range(num):\n",
    "                result=func(*args,**kwargs)\n",
    "            return result\n",
    "        return wrapper\n",
    "    return function\n",
    "\n",
    "\n",
    "@repeat(3)\n",
    "\n",
    "def name(name):\n",
    "    print(f\"name is :- {name}\")\n",
    "\n",
    "name(\"alex\")  "
   ]
  },
  {
   "cell_type": "code",
   "execution_count": null,
   "id": "f4726e51-1773-4bea-8995-6966a04b8edd",
   "metadata": {},
   "outputs": [],
   "source": []
  },
  {
   "cell_type": "code",
   "execution_count": null,
   "id": "04e6b484-131e-419e-a5ca-a2eedf3cd2b4",
   "metadata": {},
   "outputs": [],
   "source": []
  },
  {
   "cell_type": "code",
   "execution_count": null,
   "id": "0a7b7291-e9b5-4fe0-9662-6c642e620de8",
   "metadata": {},
   "outputs": [],
   "source": []
  }
 ],
 "metadata": {
  "kernelspec": {
   "display_name": "Python 3",
   "language": "python",
   "name": "python3"
  },
  "language_info": {
   "codemirror_mode": {
    "name": "ipython",
    "version": 3
   },
   "file_extension": ".py",
   "mimetype": "text/x-python",
   "name": "python",
   "nbconvert_exporter": "python",
   "pygments_lexer": "ipython3",
   "version": "3.8.8"
  }
 },
 "nbformat": 4,
 "nbformat_minor": 5
}
