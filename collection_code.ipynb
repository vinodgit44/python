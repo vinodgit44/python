{
 "cells": [
  {
   "cell_type": "markdown",
   "id": "42ac198e-5c80-40b5-bc7a-322942154294",
   "metadata": {},
   "source": [
    "Collection modules  gives extra functionality \n",
    "following four types:\n",
    "1.Counter\n",
    "2.namedTuple\n",
    "3.OrderedDict\n",
    "4.defaultdict\n",
    "5.deque"
   ]
  },
  {
   "cell_type": "markdown",
   "id": "365f6e96-4bd3-491f-8b53-791241bc8911",
   "metadata": {},
   "source": [
    "1.Counter :---- counts all the repeated items  in string and data "
   ]
  },
  {
   "cell_type": "code",
   "execution_count": 1,
   "id": "fc4abf01-7592-4a7a-91e7-a6a9885859f3",
   "metadata": {},
   "outputs": [],
   "source": [
    "from collections import Counter\n"
   ]
  },
  {
   "cell_type": "code",
   "execution_count": 6,
   "id": "5e928fa0-63dc-4430-b7d5-11daeb041257",
   "metadata": {},
   "outputs": [],
   "source": [
    "a=\"aaabbbbbccccchhhhfkkkkkkkdddddd\"\n"
   ]
  },
  {
   "cell_type": "code",
   "execution_count": 9,
   "id": "1e6fb44b-3b10-4d91-8de0-1e22d428668a",
   "metadata": {},
   "outputs": [
    {
     "data": {
      "text/plain": [
       "Counter({'a': 3, 'b': 5, 'c': 5, 'h': 4, 'f': 1, 'k': 7, 'd': 6})"
      ]
     },
     "execution_count": 9,
     "metadata": {},
     "output_type": "execute_result"
    }
   ],
   "source": [
    "count=Counter(a)\n",
    "count"
   ]
  },
  {
   "cell_type": "code",
   "execution_count": 18,
   "id": "0f9e9a7f-6333-4ee9-985e-9622aaf36f74",
   "metadata": {},
   "outputs": [
    {
     "name": "stdout",
     "output_type": "stream",
     "text": [
      "dict_keys(['a', 'b', 'c', 'h', 'f', 'k', 'd'])\n",
      "dict_values([3, 5, 5, 4, 1, 7, 6])\n"
     ]
    }
   ],
   "source": [
    "print(count.keys())\n",
    "print(count.values())"
   ]
  },
  {
   "cell_type": "code",
   "execution_count": 20,
   "id": "519931f7-85b6-4ed8-9815-2eeb8c616755",
   "metadata": {},
   "outputs": [
    {
     "name": "stdout",
     "output_type": "stream",
     "text": [
      "k\n",
      "[('k', 7), ('d', 6)]\n"
     ]
    }
   ],
   "source": [
    "\n",
    "print(count.most_common(1)[0][0]) #printing most occured letter\n",
    "print(count.most_common(2)) #printing most occured two letters with occurence "
   ]
  },
  {
   "cell_type": "markdown",
   "id": "0f36cbdd-fa85-45cd-a292-377d51bf345c",
   "metadata": {},
   "source": [
    "namedtuple :- similar to struct "
   ]
  },
  {
   "cell_type": "code",
   "execution_count": 21,
   "id": "bdbca441-2170-4a7b-8340-bde79817c94f",
   "metadata": {},
   "outputs": [],
   "source": [
    "from collections import namedtuple"
   ]
  },
  {
   "cell_type": "code",
   "execution_count": 22,
   "id": "b88af5d0-3fd6-43f9-a7ad-e39355727540",
   "metadata": {},
   "outputs": [],
   "source": [
    "Point=namedtuple(\"Point\",\"x,y\")"
   ]
  },
  {
   "cell_type": "code",
   "execution_count": 27,
   "id": "3e3944bf-8c18-4bb4-99ef-991ec9f9c1c4",
   "metadata": {},
   "outputs": [],
   "source": [
    "pt1=Point(1,6)\n",
    "pt2=Point(1,-3)"
   ]
  },
  {
   "cell_type": "code",
   "execution_count": 28,
   "id": "3103f47a-77e1-4aa5-bb3d-1bffcab9ec27",
   "metadata": {},
   "outputs": [
    {
     "name": "stdout",
     "output_type": "stream",
     "text": [
      "Point(x=1, y=6)\n",
      "1 6\n",
      "Point(x=1, y=-3)\n",
      "1 -3\n"
     ]
    }
   ],
   "source": [
    "print(pt1)\n",
    "print(pt1.x,pt1.y)\n",
    "print(pt2)\n",
    "print(pt2.x,pt2.y)"
   ]
  },
  {
   "cell_type": "raw",
   "id": "067b95f3-91d5-4449-ad73-202234ba8d09",
   "metadata": {},
   "source": [
    "Ordered Dictionary ::---- same as normal dictionary but remembers order (after python 3.6 normal dictionary can also remember order "
   ]
  },
  {
   "cell_type": "code",
   "execution_count": 34,
   "id": "d326764e-73f4-4311-a51a-51e8f1c8740b",
   "metadata": {},
   "outputs": [],
   "source": [
    "from collections import OrderedDict"
   ]
  },
  {
   "cell_type": "code",
   "execution_count": 38,
   "id": "65197711-ae03-41e4-834c-e8c190dfd744",
   "metadata": {},
   "outputs": [
    {
     "name": "stdout",
     "output_type": "stream",
     "text": [
      "{'a': 1, 'c': 3, 'd': 4, 'b': 2}\n"
     ]
    }
   ],
   "source": [
    "o_dict=OrderedDict()\n",
    "# o_dict={} #same with this \n",
    "o_dict[\"a\"]=1\n",
    "\n",
    "o_dict[\"c\"]=3\n",
    "o_dict[\"d\"]=4\n",
    "o_dict[\"b\"]=2\n",
    "print(o_dict)"
   ]
  },
  {
   "cell_type": "markdown",
   "id": "3515d350-7aee-40da-b477-6fae477f2873",
   "metadata": {},
   "source": [
    "defaultdict :-Like  normal dictionary but set  to default value if key is not set (do not give any key error if key not found)"
   ]
  },
  {
   "cell_type": "code",
   "execution_count": 46,
   "id": "c35ff793-fc76-4572-a2e1-ec84436df193",
   "metadata": {},
   "outputs": [],
   "source": [
    "from collections import defaultdict"
   ]
  },
  {
   "cell_type": "code",
   "execution_count": 54,
   "id": "be6e9aa4-4e94-4061-8bae-7488cc5f62d1",
   "metadata": {},
   "outputs": [
    {
     "name": "stdout",
     "output_type": "stream",
     "text": [
      "0\n"
     ]
    }
   ],
   "source": [
    "d_dict=defaultdict(int) #data type to be selected \n",
    "d_dict[\"a\"]=1\n",
    "\n",
    "d_dict[\"c\"]=3\n",
    "d_dict[\"d\"]=4\n",
    "d_dict[\"b\"]=2\n",
    "print(d_dict[\"x\"])"
   ]
  },
  {
   "cell_type": "markdown",
   "id": "c589c6c7-c73b-41b4-ad87-9d1622a520c5",
   "metadata": {},
   "source": [
    "deque:---- double ended queue we can insert or remove  value from left and right both "
   ]
  },
  {
   "cell_type": "code",
   "execution_count": 56,
   "id": "136f0d73-000c-430a-a8b5-3ed8f5286085",
   "metadata": {},
   "outputs": [],
   "source": [
    "from collections import deque"
   ]
  },
  {
   "cell_type": "code",
   "execution_count": 62,
   "id": "029100b9-7ace-43d6-8f15-8f72921af0ee",
   "metadata": {},
   "outputs": [
    {
     "name": "stdout",
     "output_type": "stream",
     "text": [
      "deque([1, 2, 3])\n",
      "deque([4, 1, 2, 3])\n"
     ]
    }
   ],
   "source": [
    "d=deque()\n",
    "d.append(1)#appends value at only last or right \n",
    "d.append(2)\n",
    "d.append(3)\n",
    "print(d)\n",
    "d.appendleft(4)\n",
    "\n",
    "print(d)"
   ]
  },
  {
   "cell_type": "code",
   "execution_count": 63,
   "id": "ba340aba-588c-48cd-b919-9e7f3bd4eee5",
   "metadata": {},
   "outputs": [
    {
     "name": "stdout",
     "output_type": "stream",
     "text": [
      "deque([4, 1, 2, 3])\n",
      "deque([4, 1, 2])\n",
      "deque([1, 2])\n"
     ]
    }
   ],
   "source": [
    "print(d)\n",
    "d.pop()\n",
    "print(d)\n",
    "d.popleft()\n",
    "print(d)"
   ]
  },
  {
   "cell_type": "code",
   "execution_count": null,
   "id": "ba863854-d78f-4573-b8f3-c1b36b6078a4",
   "metadata": {},
   "outputs": [],
   "source": []
  }
 ],
 "metadata": {
  "kernelspec": {
   "display_name": "Python 3",
   "language": "python",
   "name": "python3"
  },
  "language_info": {
   "codemirror_mode": {
    "name": "ipython",
    "version": 3
   },
   "file_extension": ".py",
   "mimetype": "text/x-python",
   "name": "python",
   "nbconvert_exporter": "python",
   "pygments_lexer": "ipython3",
   "version": "3.8.8"
  }
 },
 "nbformat": 4,
 "nbformat_minor": 5
}
