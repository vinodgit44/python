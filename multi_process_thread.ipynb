{
 "cells": [
  {
   "cell_type": "markdown",
   "id": "6b305d17-9053-4f45-91a9-3fd7bab2fe3d",
   "metadata": {},
   "source": [
    " Multiprocessing \n"
   ]
  },
  {
   "cell_type": "code",
   "execution_count": null,
   "id": "9629602a-fc59-4337-9744-0de61032de20",
   "metadata": {},
   "outputs": [],
   "source": [
    "from multiprocessing import Process\n",
    "import os \n",
    "import time"
   ]
  },
  {
   "cell_type": "code",
   "execution_count": 11,
   "id": "18340f26-524e-4769-904c-a96424a68cbd",
   "metadata": {},
   "outputs": [
    {
     "name": "stdout",
     "output_type": "stream",
     "text": [
      "12\n",
      "end process\n"
     ]
    }
   ],
   "source": [
    "def sqn():\n",
    "    for i in range(100):\n",
    "        i*i\n",
    "        time.sleep(.1)\n",
    "        \n",
    "processes=[]\n",
    "num_process=os.cpu_count()\n",
    "print(num_process)\n",
    "\n",
    "for i in range(num_process):\n",
    "    p=Process(target=sqn) #making process\n",
    "    processes.append(p)\n",
    "    \n",
    "    \n",
    "for p in processes:\n",
    "    p.start()#starting process\n",
    "    \n",
    "for p in processes:\n",
    "    p.join() #joining process \n",
    "print(\"end process\")\n",
    "    \n",
    "    \n",
    "    \n",
    "\n",
    "        \n",
    "     \n",
    "     "
   ]
  },
  {
   "cell_type": "markdown",
   "id": "1a2a982d-db3b-4965-83c0-92b84ddc9cdb",
   "metadata": {},
   "source": [
    "Multithreading "
   ]
  },
  {
   "cell_type": "code",
   "execution_count": 15,
   "id": "184bcb94-fead-43ee-9306-0f8093be10d0",
   "metadata": {},
   "outputs": [
    {
     "name": "stdout",
     "output_type": "stream",
     "text": [
      "end process\n"
     ]
    }
   ],
   "source": [
    "\n",
    "from threading import Thread\n",
    "def sqn():\n",
    "    for i in range(100):\n",
    "        i*i\n",
    "        time.sleep(.1)\n",
    "        \n",
    "threads=[]\n",
    "num_thread=15\n",
    "\n",
    "for i in range(num_thread):\n",
    "    t=Thread(target=sqn) #making threads\n",
    "    threads.append(t)\n",
    "    \n",
    "    \n",
    "for t in threads:  \n",
    "    t.start()  #starting thread\n",
    "    \n",
    "for t in threads:\n",
    "    t.join()   #joining thread\n",
    "print(\"end process\")\n",
    "    \n",
    "    \n",
    "    \n"
   ]
  },
  {
   "cell_type": "code",
   "execution_count": null,
   "id": "018694af-33e9-48b2-ad0f-c4439bc6bd85",
   "metadata": {},
   "outputs": [],
   "source": []
  }
 ],
 "metadata": {
  "kernelspec": {
   "display_name": "Python 3",
   "language": "python",
   "name": "python3"
  },
  "language_info": {
   "codemirror_mode": {
    "name": "ipython",
    "version": 3
   },
   "file_extension": ".py",
   "mimetype": "text/x-python",
   "name": "python",
   "nbconvert_exporter": "python",
   "pygments_lexer": "ipython3",
   "version": "3.8.8"
  }
 },
 "nbformat": 4,
 "nbformat_minor": 5
}
