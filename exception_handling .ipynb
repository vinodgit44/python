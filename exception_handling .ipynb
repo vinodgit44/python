{
 "cells": [
  {
   "cell_type": "markdown",
   "id": "ac32c4d3-1619-45f4-98e8-387fd06699cd",
   "metadata": {},
   "source": [
    "errors \n",
    "syntex error,type error,import error ,name error ,file not found error,value error,indexing error"
   ]
  },
  {
   "cell_type": "code",
   "execution_count": 18,
   "id": "0f94b353-99eb-4fe1-b4b0-f43d55848a5a",
   "metadata": {},
   "outputs": [
    {
     "ename": "Exception",
     "evalue": "value is negative",
     "output_type": "error",
     "traceback": [
      "\u001b[0;31m---------------------------------------------------------------------------\u001b[0m",
      "\u001b[0;31mException\u001b[0m                                 Traceback (most recent call last)",
      "\u001b[0;32m<ipython-input-18-0a068a42fd59>\u001b[0m in \u001b[0;36m<module>\u001b[0;34m\u001b[0m\n\u001b[1;32m      3\u001b[0m \u001b[0;34m\u001b[0m\u001b[0m\n\u001b[1;32m      4\u001b[0m \u001b[0;32mif\u001b[0m \u001b[0mx\u001b[0m\u001b[0;34m<\u001b[0m\u001b[0;36m0\u001b[0m \u001b[0;34m:\u001b[0m\u001b[0;34m\u001b[0m\u001b[0;34m\u001b[0m\u001b[0m\n\u001b[0;32m----> 5\u001b[0;31m     \u001b[0;32mraise\u001b[0m \u001b[0mException\u001b[0m\u001b[0;34m(\u001b[0m\u001b[0;34m\"value is negative\"\u001b[0m\u001b[0;34m)\u001b[0m\u001b[0;34m\u001b[0m\u001b[0;34m\u001b[0m\u001b[0m\n\u001b[0m",
      "\u001b[0;31mException\u001b[0m: value is negative"
     ]
    }
   ],
   "source": [
    "#raise\n",
    "x=-5\n",
    "\n",
    "if x<0 :\n",
    "    raise Exception(\"value is negative\")"
   ]
  },
  {
   "cell_type": "code",
   "execution_count": 27,
   "id": "ab1a9f6d-d3ee-4054-8cba-f25238e312c7",
   "metadata": {},
   "outputs": [
    {
     "ename": "AssertionError",
     "evalue": "value is negative",
     "output_type": "error",
     "traceback": [
      "\u001b[0;31m---------------------------------------------------------------------------\u001b[0m",
      "\u001b[0;31mAssertionError\u001b[0m                            Traceback (most recent call last)",
      "\u001b[0;32m<ipython-input-27-eba708aa3823>\u001b[0m in \u001b[0;36m<module>\u001b[0;34m\u001b[0m\n\u001b[1;32m      1\u001b[0m \u001b[0;31m#assert\u001b[0m\u001b[0;34m\u001b[0m\u001b[0;34m\u001b[0m\u001b[0;34m\u001b[0m\u001b[0m\n\u001b[1;32m      2\u001b[0m \u001b[0mx\u001b[0m\u001b[0;34m=\u001b[0m\u001b[0;34m-\u001b[0m\u001b[0;36m5\u001b[0m\u001b[0;34m\u001b[0m\u001b[0;34m\u001b[0m\u001b[0m\n\u001b[0;32m----> 3\u001b[0;31m \u001b[0;32massert\u001b[0m \u001b[0;34m(\u001b[0m\u001b[0mx\u001b[0m\u001b[0;34m>\u001b[0m\u001b[0;36m0\u001b[0m\u001b[0;34m)\u001b[0m\u001b[0;34m,\u001b[0m\u001b[0;34m\"value is negative\"\u001b[0m\u001b[0;34m\u001b[0m\u001b[0;34m\u001b[0m\u001b[0m\n\u001b[0m",
      "\u001b[0;31mAssertionError\u001b[0m: value is negative"
     ]
    }
   ],
   "source": [
    "#assert\n",
    "x=-5\n",
    "assert (x>0),\"value is negative\""
   ]
  },
  {
   "cell_type": "code",
   "execution_count": 40,
   "id": "2a33a380-6818-4ee4-a5f2-214c27d4a570",
   "metadata": {},
   "outputs": [
    {
     "name": "stdout",
     "output_type": "stream",
     "text": [
      "division by zero\n",
      "clearing up >>>>\n"
     ]
    }
   ],
   "source": [
    "try: \n",
    "    x = 6 / 0\n",
    "    y= \"a\"\n",
    "except Exception as e:\n",
    "    print(e)\n",
    "except Exception as e:\n",
    "        print(e)\n",
    "else:\n",
    "    print(\"running ok\") # runs when no exception\n",
    "    \n",
    "finally:\n",
    "    print(\"clearing up >>>>\") #runs always\n"
   ]
  },
  {
   "cell_type": "code",
   "execution_count": null,
   "id": "f9366d68-49ac-441e-9509-f83b8fbd84ab",
   "metadata": {},
   "outputs": [],
   "source": []
  }
 ],
 "metadata": {
  "kernelspec": {
   "display_name": "Python 3",
   "language": "python",
   "name": "python3"
  },
  "language_info": {
   "codemirror_mode": {
    "name": "ipython",
    "version": 3
   },
   "file_extension": ".py",
   "mimetype": "text/x-python",
   "name": "python",
   "nbconvert_exporter": "python",
   "pygments_lexer": "ipython3",
   "version": "3.8.8"
  }
 },
 "nbformat": 4,
 "nbformat_minor": 5
}
