{
 "cells": [
  {
   "cell_type": "markdown",
   "id": "b0604748-7a88-4f7e-9e42-c20d4a060ab1",
   "metadata": {},
   "source": [
    "\n",
    "    shallow copies: Only one level deep. It creates a new collection object and populates it with references to the nested objects. This means modyfing a nested object in the copy deeper than one level affects the original.\n",
    "    deep copies: A full independent clone. It creates a new collection object and then recursively populates it with copies of the nested objects found in the original.\n"
   ]
  },
  {
   "cell_type": "code",
   "execution_count": 1,
   "id": "36e8dc13-54ea-4f2e-ae80-a64aeb692006",
   "metadata": {},
   "outputs": [
    {
     "name": "stdout",
     "output_type": "stream",
     "text": [
      "[-10, 2, 3, 4, 5]\n",
      "[-10, 2, 3, 4, 5]\n"
     ]
    }
   ],
   "source": [
    "\n",
    "\n",
    "list_a = [1, 2, 3, 4, 5]\n",
    "list_b = list_a\n",
    "\n",
    "list_a[0] = -10\n",
    "print(list_a)\n",
    "print(list_b)\n",
    "\n"
   ]
  },
  {
   "cell_type": "markdown",
   "id": "c66f0277-35e5-4db4-9bf6-17b4f196186a",
   "metadata": {},
   "source": [
    "Shallow copy"
   ]
  },
  {
   "cell_type": "code",
   "execution_count": 2,
   "id": "a9abb7b0-7d25-41bd-82ad-53d60cd82c32",
   "metadata": {},
   "outputs": [
    {
     "name": "stdout",
     "output_type": "stream",
     "text": [
      "[1, 2, 3, 4, 5]\n",
      "[-10, 2, 3, 4, 5]\n"
     ]
    }
   ],
   "source": [
    "import copy\n",
    "list_a = [1, 2, 3, 4, 5]\n",
    "list_b = copy.copy(list_a)\n",
    "\n",
    "# not affects the other list\n",
    "list_b[0] = -10\n",
    "print(list_a)\n",
    "print(list_b)\n"
   ]
  },
  {
   "cell_type": "code",
   "execution_count": 3,
   "id": "b9b94afb-b9e4-4485-8db9-0041ef7cf158",
   "metadata": {},
   "outputs": [
    {
     "name": "stdout",
     "output_type": "stream",
     "text": [
      "[[-10, 2, 3, 4, 5], [6, 7, 8, 9, 10]]\n",
      "[[-10, 2, 3, 4, 5], [6, 7, 8, 9, 10]]\n"
     ]
    }
   ],
   "source": [
    "\n",
    "\n",
    "import copy\n",
    "list_a = [[1, 2, 3, 4, 5], [6, 7, 8, 9, 10]]\n",
    "list_b = copy.copy(list_a)\n",
    "\n",
    "# affects the other!\n",
    "list_a[0][0]= -10\n",
    "print(list_a)\n",
    "print(list_b)\n",
    "\n"
   ]
  },
  {
   "cell_type": "code",
   "execution_count": 4,
   "id": "28126dc7-3b48-4f3a-9ef5-1aee112eabbf",
   "metadata": {},
   "outputs": [],
   "source": [
    "\n",
    "\n",
    "# shallow copies\n",
    "list_b = list(list_a)\n",
    "list_b = list_a[:]\n",
    "list_b = list_a.copy()\n",
    "\n"
   ]
  },
  {
   "cell_type": "markdown",
   "id": "e204baf0-c7e3-4db3-baba-71652900c463",
   "metadata": {},
   "source": [
    "Deep copies"
   ]
  },
  {
   "cell_type": "code",
   "execution_count": 5,
   "id": "7c507d55-a05c-472c-8b56-180e8d5512ff",
   "metadata": {},
   "outputs": [
    {
     "name": "stdout",
     "output_type": "stream",
     "text": [
      "[[-10, 2, 3, 4, 5], [6, 7, 8, 9, 10]]\n",
      "[[1, 2, 3, 4, 5], [6, 7, 8, 9, 10]]\n"
     ]
    }
   ],
   "source": [
    "\n",
    "\n",
    "import copy\n",
    "list_a = [[1, 2, 3, 4, 5], [6, 7, 8, 9, 10]]\n",
    "list_b = copy.deepcopy(list_a)\n",
    "\n",
    "# not affects the other\n",
    "list_a[0][0]= -10\n",
    "print(list_a)\n",
    "print(list_b)\n",
    "\n"
   ]
  },
  {
   "cell_type": "code",
   "execution_count": null,
   "id": "b995c8d9-ab80-4a8b-a9c1-c1557e5fc843",
   "metadata": {},
   "outputs": [],
   "source": [
    "Custom objects"
   ]
  },
  {
   "cell_type": "code",
   "execution_count": null,
   "id": "9e4040fd-d217-4dce-8202-e100aeebc035",
   "metadata": {},
   "outputs": [],
   "source": [
    "\n",
    "\n",
    "class Person:\n",
    "    def __init__(self, name, age):\n",
    "        self.name = name\n",
    "        self.age = age\n",
    "                \n",
    "# Only copies the reference\n",
    "p1 = Person('Alex', 27)\n",
    "p2 = p1\n",
    "p2.age = 28\n",
    "print(p1.age)\n",
    "print(p2.age)\n",
    "\n"
   ]
  },
  {
   "cell_type": "code",
   "execution_count": null,
   "id": "074a5cb0-1259-4837-9b50-413dc9385e2f",
   "metadata": {},
   "outputs": [],
   "source": [
    "\n",
    "\n",
    "# shallow copy\n",
    "import copy\n",
    "p1 = Person('Alex', 27)\n",
    "p2 = copy.copy(p1)\n",
    "p2.age = 28\n",
    "print(p1.age)\n",
    "print(p2.age)\n",
    "\n"
   ]
  },
  {
   "cell_type": "code",
   "execution_count": null,
   "id": "0f535188-95a3-461b-96b0-c3d97cab99dd",
   "metadata": {},
   "outputs": [],
   "source": [
    "class Company:\n",
    "    def __init__(self, boss, employee):\n",
    "        self. boss = boss\n",
    "        self.employee = employee\n",
    "\n",
    "# shallow copy will affect nested objects\n",
    "boss = Person('Jane', 55)\n",
    "employee = Person('Joe', 28)\n",
    "company = Company(boss, employee)\n",
    "\n",
    "company_clone = copy.copy(company)\n",
    "company_clone.boss.age = 56\n",
    "print(company.boss.age)\n",
    "print(company_clone.boss.age)\n",
    "\n",
    "print()\n",
    "# deep copy will not affect nested objects\n",
    "boss = Person('Jane', 55)\n",
    "employee = Person('Joe', 28)\n",
    "company = Company(boss, employee)\n",
    "company_clone = copy.deepcopy(company)\n",
    "company_clone.boss.age = 56\n",
    "print(company.boss.age)\n",
    "print(company_clone.boss.age)\n",
    "j"
   ]
  },
  {
   "cell_type": "code",
   "execution_count": null,
   "id": "2ec60fd4-b504-48f1-9aef-578249863e51",
   "metadata": {},
   "outputs": [],
   "source": []
  }
 ],
 "metadata": {
  "kernelspec": {
   "display_name": "Python 3",
   "language": "python",
   "name": "python3"
  },
  "language_info": {
   "codemirror_mode": {
    "name": "ipython",
    "version": 3
   },
   "file_extension": ".py",
   "mimetype": "text/x-python",
   "name": "python",
   "nbconvert_exporter": "python",
   "pygments_lexer": "ipython3",
   "version": "3.8.8"
  }
 },
 "nbformat": 4,
 "nbformat_minor": 5
}
