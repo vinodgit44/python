{
 "cells": [
  {
   "cell_type": "code",
   "execution_count": 12,
   "id": "dca5bd21-491e-4689-9346-057c517f52a4",
   "metadata": {},
   "outputs": [],
   "source": [
    "import json"
   ]
  },
  {
   "cell_type": "code",
   "execution_count": 20,
   "id": "9bd4b078-ef3d-4e01-b243-fd5e2f512aa9",
   "metadata": {},
   "outputs": [
    {
     "name": "stdout",
     "output_type": "stream",
     "text": [
      "<class 'dict'>\n"
     ]
    }
   ],
   "source": [
    "p={\"name\":\"adam\",\"age\":24,\"city\":\"london\",\"married\":True,\"skills\":[\"java\",\"python\",\"databases\"]}\n",
    "print(type(p))"
   ]
  },
  {
   "cell_type": "code",
   "execution_count": 21,
   "id": "21424b1b-0c77-4de0-a55f-1743b71a0105",
   "metadata": {},
   "outputs": [
    {
     "name": "stdout",
     "output_type": "stream",
     "text": [
      "<class 'str'>\n"
     ]
    }
   ],
   "source": [
    "person=json.dumps(p,indent=4,sort_keys=False)#convert python dictionary to json str\n",
    "print(type(person))"
   ]
  },
  {
   "cell_type": "code",
   "execution_count": 15,
   "id": "7d805786-3bc3-41ef-86ba-2ba94a9c67bb",
   "metadata": {},
   "outputs": [
    {
     "name": "stdout",
     "output_type": "stream",
     "text": [
      "{\n",
      "    \"name\": \"adam\",\n",
      "    \"age\": 24,\n",
      "    \"city\": \"london\",\n",
      "    \"married\": true,\n",
      "    \"skills\": [\n",
      "        \"java\",\n",
      "        \"python\",\n",
      "        \"databases\"\n",
      "    ]\n",
      "}\n"
     ]
    }
   ],
   "source": [
    "print(person)"
   ]
  },
  {
   "cell_type": "code",
   "execution_count": 19,
   "id": "5e9210f8-5735-4483-8a08-f87efe20b23a",
   "metadata": {},
   "outputs": [],
   "source": [
    "with open(\"person.json\", \"w\") as f:\n",
    "    json.dump(person,f,indent=4)"
   ]
  },
  {
   "cell_type": "code",
   "execution_count": null,
   "id": "9505f0af-363e-408b-b597-de51ba4cb9bc",
   "metadata": {},
   "outputs": [],
   "source": [
    "#convert json str to python dictionary  "
   ]
  },
  {
   "cell_type": "code",
   "execution_count": 24,
   "id": "09538612-7790-45b9-b698-fb5c5377d51d",
   "metadata": {},
   "outputs": [
    {
     "name": "stdout",
     "output_type": "stream",
     "text": [
      "<class 'dict'>\n"
     ]
    }
   ],
   "source": [
    "pr=json.loads(person)\n",
    "print(type(pr))"
   ]
  },
  {
   "cell_type": "markdown",
   "id": "9471915d-1b79-45a3-866d-588de92d0cfa",
   "metadata": {},
   "source": [
    "dump user data from object (encode)"
   ]
  },
  {
   "cell_type": "code",
   "execution_count": 35,
   "id": "c9cb1c03-49e9-4d9b-af72-41e6979e4113",
   "metadata": {},
   "outputs": [
    {
     "name": "stdout",
     "output_type": "stream",
     "text": [
      "max\n"
     ]
    }
   ],
   "source": [
    "class User:\n",
    "    def __init__(self,name,age):\n",
    "        self.name=name\n",
    "        self.age=age\n",
    "        \n",
    "        \n",
    "user=User(\"max\",15)\n",
    "user1=User(\"ram\",45)\n",
    "print(user.name)\n"
   ]
  },
  {
   "cell_type": "code",
   "execution_count": 36,
   "id": "e4414e7d-012d-489a-aa61-6c9a7891420e",
   "metadata": {},
   "outputs": [],
   "source": [
    "def encode_user(o):\n",
    "    if isinstance(o,User):\n",
    "        return {\"name\":o.name,\"age\":o.age,o.__class__.__name__:True}\n",
    "    else:\n",
    "        raise Exception(\"TypeError: Object of type User is not JSON serializable\")\n",
    "        "
   ]
  },
  {
   "cell_type": "code",
   "execution_count": 37,
   "id": "7e65f0e3-8cad-4239-ab51-391ea719118d",
   "metadata": {},
   "outputs": [
    {
     "name": "stdout",
     "output_type": "stream",
     "text": [
      "{\"name\": \"max\", \"age\": 15, \"User\": true}\n"
     ]
    }
   ],
   "source": [
    "user_Json=json.dumps(user,default=encode_user)\n",
    "print(user_Json)"
   ]
  },
  {
   "cell_type": "code",
   "execution_count": 39,
   "id": "6d864e12-8c4d-47b8-8183-6e15dc5e46ca",
   "metadata": {},
   "outputs": [
    {
     "name": "stdout",
     "output_type": "stream",
     "text": [
      "<class 'str'>\n"
     ]
    }
   ],
   "source": [
    "user_Json1=json.dumps(user1,default=encode_user)\n",
    "print(type(user_Json1))"
   ]
  },
  {
   "cell_type": "markdown",
   "id": "588ab6c5-70a4-433b-b2b5-f0725b658ef6",
   "metadata": {},
   "source": [
    "dump user data to object (decode)"
   ]
  },
  {
   "cell_type": "code",
   "execution_count": 46,
   "id": "f0dda17f-5db7-4cc5-9f71-2fe84abfba24",
   "metadata": {},
   "outputs": [
    {
     "name": "stdout",
     "output_type": "stream",
     "text": [
      "<class 'dict'>\n"
     ]
    }
   ],
   "source": [
    "user2=json.loads(user_Json)\n",
    "print(type(user2))"
   ]
  },
  {
   "cell_type": "code",
   "execution_count": 50,
   "id": "e00aa6e6-54b7-4fdd-82f2-2f50735270d9",
   "metadata": {},
   "outputs": [
    {
     "name": "stdout",
     "output_type": "stream",
     "text": [
      "max\n"
     ]
    }
   ],
   "source": [
    "def decode_user(dct):\n",
    "    if User.__name__ in dct:\n",
    "        return User(name=dct[\"name\"],age=dct[\"age\"])\n",
    "    return dct\n",
    "\n",
    "\n",
    "user3=json.loads(user_Json,object_hook=decode_user)\n",
    "print(user3.name)"
   ]
  },
  {
   "cell_type": "code",
   "execution_count": null,
   "id": "3cce88d1-79ec-413f-953d-f3fe3388dd3a",
   "metadata": {},
   "outputs": [],
   "source": []
  },
  {
   "cell_type": "code",
   "execution_count": null,
   "id": "c149614c-ead6-412b-ad20-0677721b2812",
   "metadata": {},
   "outputs": [],
   "source": []
  },
  {
   "cell_type": "code",
   "execution_count": null,
   "id": "358f2798-d0c3-424c-b768-373c6767e010",
   "metadata": {},
   "outputs": [],
   "source": []
  }
 ],
 "metadata": {
  "kernelspec": {
   "display_name": "Python 3",
   "language": "python",
   "name": "python3"
  },
  "language_info": {
   "codemirror_mode": {
    "name": "ipython",
    "version": 3
   },
   "file_extension": ".py",
   "mimetype": "text/x-python",
   "name": "python",
   "nbconvert_exporter": "python",
   "pygments_lexer": "ipython3",
   "version": "3.8.8"
  }
 },
 "nbformat": 4,
 "nbformat_minor": 5
}
