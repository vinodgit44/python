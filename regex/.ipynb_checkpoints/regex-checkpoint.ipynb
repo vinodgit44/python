{
 "cells": [
  {
   "cell_type": "markdown",
   "id": "9a539252-b6a8-4ada-be30-013f2943499d",
   "metadata": {
    "tags": []
   },
   "source": [
    "Python regex\n",
    "A RegEx, or Regular Expression, is a sequence of characters that forms a search pattern.\n",
    "\n",
    "RegEx can be used to check if a string contains the specified search pattern.\n",
    "\n",
    "\n",
    "regex has following functions \n",
    "1.findall :-  The findall() function returns a list containing all matches.\n",
    "2.search :-   The search() function searches the string for a match, and returns a Match object if there is a match.\n",
    "              If there is more than one match, only the first occurrence of the match will be returned:       \n",
    "3.split\n",
    "4.sub"
   ]
  },
  {
   "cell_type": "code",
   "execution_count": null,
   "id": "ffae47d3-9988-444b-a159-1ec2f0dfec57",
   "metadata": {},
   "outputs": [],
   "source": [
    "import re"
   ]
  },
  {
   "cell_type": "code",
   "execution_count": null,
   "id": "9e5cca2b-4920-4608-98c6-9afe13a463d6",
   "metadata": {},
   "outputs": [],
   "source": [
    "txt=\"asda123adsad456adsad789\"\n",
    "x=re.findall(\"\\d\\d\",txt)"
   ]
  },
  {
   "cell_type": "code",
   "execution_count": null,
   "id": "c9497a6f-90c7-43e7-8d79-da69959e18e9",
   "metadata": {},
   "outputs": [],
   "source": [
    "print(x)\n",
    "print(max(x))"
   ]
  },
  {
   "cell_type": "code",
   "execution_count": null,
   "id": "d2194288-08b5-48d8-9b5c-a5d2e4c3c736",
   "metadata": {},
   "outputs": [],
   "source": [
    "print(r\"\\tr\") #example of raw srting (it does include \\ as a part of string )"
   ]
  },
  {
   "cell_type": "code",
   "execution_count": 59,
   "id": "faa28d46-3ffa-422f-9fd0-6dc35582f7de",
   "metadata": {
    "tags": []
   },
   "outputs": [],
   "source": [
    "import re\n",
    "\n",
    "text_to_search = '''\n",
    "\n",
    "abcdefghijklmnopqurtuvwxyz\n",
    "ABCDEFGHIJKLMNOPQRSTUVWXYZ\n",
    "1234567890\n",
    "\\d\n",
    "Ha HaHa\n",
    "MetaCharacters (Need to be escaped):\n",
    ". ^ $ * + ? { } [ ] \\ | ( )\n",
    "coreyms.com\n",
    "321a555b4321\n",
    "123.555.1234\n",
    "123*555*1234\n",
    "800-555-1234\n",
    "900-555-1234\n",
    "Mr. Schafer\n",
    "Mr Smith\n",
    "Ms Davis\n",
    "Mrs. Robinson\n",
    "Mr. T\n",
    "\n",
    "'''\n"
   ]
  },
  {
   "cell_type": "markdown",
   "id": "140565af-fa94-4745-bb37-e40c380a3ecf",
   "metadata": {
    "tags": []
   },
   "source": [
    "*******************keywords for searching:- \n",
    "\n",
    ".       - Any Character Except New Line\n",
    "\\d      - Digit (0-9)\n",
    "\\D      - Not a Digit (0-9)\n",
    "\\w      - Word Character (a-z, A-Z, 0-9, _)\n",
    "\\W      - Not a Word Character\n",
    "\\s      - Whitespace (space, tab, newline)\n",
    "\\S      - Not Whitespace (space, tab, newline)"
   ]
  },
  {
   "cell_type": "code",
   "execution_count": 54,
   "id": "78c97888-eb0c-4d6d-ad00-21566aacaa07",
   "metadata": {
    "tags": []
   },
   "outputs": [
    {
     "name": "stdout",
     "output_type": "stream",
     "text": [
      "<re.Match object; span=(2, 5), match='abc'>\n"
     ]
    }
   ],
   "source": [
    "pattern=re.compile(\"abc\")  #Normal search using exact match word to be searched\n",
    "#pattern=re.compile(\"\\d\")  #Normal searching using keywords pattern \\d any digit between 0-9\n",
    "matches=pattern.finditer(text_to_search)\n",
    "\n",
    "for match in matches:\n",
    "    print(match)"
   ]
  },
  {
   "cell_type": "markdown",
   "id": "700ad274-0532-4a1d-854d-d1b4986b6b81",
   "metadata": {
    "tags": []
   },
   "source": [
    "***************There are some metacharacters  as following :for searching  to search them in strings we must escape these with \\\n",
    "\n",
    ". ^ $ * + ? { } [ ] \\ | ( )\n"
   ]
  },
  {
   "cell_type": "code",
   "execution_count": null,
   "id": "27a7e7cb-223e-4e9b-8aaa-9feddacfc187",
   "metadata": {
    "tags": []
   },
   "outputs": [],
   "source": [
    "pattern=re.compile(\"\\.\")  # . has other meaning regex to search this we need to escape . with \\ \n",
    "matches=pattern.finditer(text_to_search)\n",
    "\n",
    "for match in matches:\n",
    "    print(match)"
   ]
  },
  {
   "cell_type": "code",
   "execution_count": 52,
   "id": "bdb4bb17-7426-4378-8c94-d6d75bdb83c1",
   "metadata": {},
   "outputs": [
    {
     "name": "stdout",
     "output_type": "stream",
     "text": [
      "<re.Match object; span=(143, 154), match='coreyms.com'>\n"
     ]
    }
   ],
   "source": [
    "pattern=re.compile(\"coreyms.com\")  # . has other meaning regex to search this we need to escape . with \\ \n",
    "matches=pattern.finditer(text_to_search)\n",
    "\n",
    "for match in matches:\n",
    "    print(match)"
   ]
  },
  {
   "cell_type": "markdown",
   "id": "de67fb4e-903c-4721-bc26-0c954b5d6701",
   "metadata": {
    "tags": []
   },
   "source": [
    "*************some other metacharacters \n",
    "\\b      - Word Boundary\n",
    "\\B      - Not a Word Boundary\n",
    "^       - Beginning of a String\n",
    "$       - End of a String"
   ]
  },
  {
   "cell_type": "code",
   "execution_count": 64,
   "id": "9945e161-15b0-4268-a353-4af2d4c01c34",
   "metadata": {},
   "outputs": [],
   "source": [
    "txt='''rain is comming stop\n",
    "Ha HaHa\n",
    "'''\n",
    "\n",
    "pattern=re.compile(\"^rain\")  # checks whether sentence starting with rain.\n",
    "pattern=re.compile(\"stop$\")  # checks whether sentence ending  with stop.\n",
    "\n",
    "#pattern=re.compile(\"\\bHa\")  # checks whether  search string has word boundry\n",
    "matches=pattern.finditer(txt) #change this according to usecase\n",
    "\n",
    "for match in matches:\n",
    " \n",
    "    print(match)"
   ]
  },
  {
   "cell_type": "markdown",
   "id": "0bbafd25-5c7d-4588-863a-d016e6bda77d",
   "metadata": {},
   "source": [
    "*******************Quantifier are used to  specify no are characters that we are searching for  ther are following four quantifiers \n",
    "1.  * \tZero or more occurrences\n",
    "2.  + \tOne or more occurrences\n",
    "3.  ? \tZero or one occurrences\n",
    "4. {}   Custom occurences "
   ]
  },
  {
   "cell_type": "code",
   "execution_count": null,
   "id": "a2ca23ab-cca9-4a15-af75-151b1b5395ef",
   "metadata": {
    "tags": []
   },
   "outputs": [],
   "source": [
    "dat = '''\n",
    "ffffff\n",
    "fffffffff\n",
    "'''\n",
    "\n",
    "pattern=re.compile(\"[f]?\")  # checks whether   f has zero or one occurences \n",
    "pattern=re.compile(\"[f]+\")  # checks whether   f has one  or more occurences \n",
    "pattern=re.compile(\"[f]*\")  # checks whether   f has zero or more occurences \n",
    "pattern=re.compile(\"[f]{3}\")  # we can specify  custom desired no. of occurences  in {} ie . searching for three f occurences\n",
    "matches=pattern.finditer(dat)\n",
    "\n",
    "for match in matches:\n",
    " \n",
    "    print(match)"
   ]
  },
  {
   "cell_type": "markdown",
   "id": "43f6b769-2c19-4bb0-80cb-b92de760f84a",
   "metadata": {
    "tags": []
   },
   "source": [
    "**************Sets [] are used to specify specific sequence like :-[abc] ,[a-z],[^arn] special characters have different meaning  inside sets.{ ^- means  not including specified pattern  ,- means range}"
   ]
  },
  {
   "cell_type": "code",
   "execution_count": 61,
   "id": "22f44068-fec8-4a27-99a6-65b4c0927ca2",
   "metadata": {},
   "outputs": [
    {
     "name": "stdout",
     "output_type": "stream",
     "text": [
      "<re.Match object; span=(168, 180), match='123.555.1234'>\n",
      "<re.Match object; span=(181, 193), match='123*555*1234'>\n",
      "<re.Match object; span=(194, 206), match='800-555-1234'>\n",
      "<re.Match object; span=(207, 219), match='900-555-1234'>\n"
     ]
    }
   ],
   "source": [
    "pattern=re.compile(\"\\d\\d\\d[-.*]\\d\\d\\d[-*.]\\d\\d\\d\\d\")  # checks whether  search string has pattern for phone no.\n",
    "#pattern=re.compile(\"\\d\\d\\d[*-]\\d\\d\\d[*-]\\d\\d\\d\\d\") # we can specify special seperators\n",
    "matches=pattern.finditer(text_to_search)\n",
    "\n",
    "for match in matches:\n",
    " \n",
    "    print(match)"
   ]
  },
  {
   "cell_type": "markdown",
   "id": "e98c19fd-8ad2-4a9b-84a7-a74deee37e43",
   "metadata": {
    "tags": []
   },
   "source": [
    "email validator  01"
   ]
  },
  {
   "cell_type": "code",
   "execution_count": 66,
   "id": "968d427d-a269-4c91-8f07-004755932223",
   "metadata": {},
   "outputs": [
    {
     "name": "stdout",
     "output_type": "stream",
     "text": [
      "<re.Match object; span=(1, 24), match='CoreyMSchafer@gmail.com'>\n",
      "<re.Match object; span=(31, 53), match='schafer@university.edu'>\n"
     ]
    }
   ],
   "source": [
    "emails = '''\n",
    "CoreyMSchafer@gmail.com\n",
    "corey.schafer@university.edu\n",
    "corey-321-schafer@my-work.net\n",
    "'''\n",
    "\n",
    "pattern=re.compile(\"[a-zA-Z]+@[a-zA-Z-]+\\.[a-zA-Z]+\")  # checks whether  search string has pattern for phone no.\n",
    "matches=pattern.finditer(emails)\n",
    "\n",
    "for match in matches:\n",
    " \n",
    "    print(match)"
   ]
  },
  {
   "cell_type": "markdown",
   "id": "6615fe34-c957-4853-9f41-2700ab41ca7f",
   "metadata": {},
   "source": [
    "**************we can assign different combination of items in groups by using ()"
   ]
  },
  {
   "cell_type": "markdown",
   "id": "7240c04b-57bb-4336-a638-e6b7c925d9e7",
   "metadata": {},
   "source": [
    "email validator  02\n"
   ]
  },
  {
   "cell_type": "code",
   "execution_count": 31,
   "id": "0d0da228-1431-4cd5-bc59-650e394a1951",
   "metadata": {},
   "outputs": [
    {
     "name": "stdout",
     "output_type": "stream",
     "text": [
      "<re.Match object; span=(1, 24), match='CoreyMSchafer@gmail.com'>\n",
      "<re.Match object; span=(25, 53), match='corey.schafer@university.edu'>\n",
      "<re.Match object; span=(54, 83), match='corey-321-schafer@my-work.net'>\n"
     ]
    }
   ],
   "source": [
    "emails = '''\n",
    "CoreyMSchafer@gmail.com\n",
    "corey.schafer@university.edu\n",
    "corey-321-schafer@my-work.net\n",
    "'''\n",
    "\n",
    "pattern=re.compile(\"[a-zA-Z0-9.-]+@[a-zA-Z-]+\\.(com|net|edu)\")  #different combination of TLD are used as a group with | seperator .\n",
    "matches=pattern.finditer(emails)\n",
    "\n",
    "for match in matches:\n",
    " \n",
    "    print(match)"
   ]
  },
  {
   "cell_type": "markdown",
   "id": "55f82715-b1bd-4e23-a4e6-ea7e554ac47d",
   "metadata": {},
   "source": [
    "Groups info "
   ]
  },
  {
   "cell_type": "markdown",
   "id": "763132f3-b97f-4b8c-ba92-f49e6d637be5",
   "metadata": {},
   "source": [
    "URL's"
   ]
  },
  {
   "cell_type": "code",
   "execution_count": 50,
   "id": "9960b413-4f6c-43b8-ba0c-36af4972f8a4",
   "metadata": {},
   "outputs": [
    {
     "name": "stdout",
     "output_type": "stream",
     "text": [
      "https://www.google.com\n",
      "www.\n",
      "google\n",
      ".com\n",
      "http://coreyms.com\n",
      "None\n",
      "coreyms\n",
      ".com\n",
      "https://youtube.com\n",
      "None\n",
      "youtube\n",
      ".com\n",
      "https://www.nasa.gov\n",
      "www.\n",
      "nasa\n",
      ".gov\n"
     ]
    }
   ],
   "source": [
    "import re\n",
    "\n",
    "urls = '''\n",
    "https://www.google.com\n",
    "http://coreyms.com\n",
    "https://youtube.com\n",
    "https://www.nasa.gov\n",
    "'''\n",
    "\n",
    "pattern=re.compile(\"https?://(www\\.)?(\\w+)(\\.\\w+)\")#extractiong url\n",
    "matches=pattern.finditer(urls)\n",
    "\n",
    "for match in matches:\n",
    "    print(match.group(0))\n",
    "    print(match.group(1))\n",
    "    print(match.group(2))\n",
    "    print(match.group(3))"
   ]
  },
  {
   "cell_type": "code",
   "execution_count": null,
   "id": "274ccfd1-5fa2-41ae-9ed8-5a82c1492122",
   "metadata": {},
   "outputs": [],
   "source": []
  }
 ],
 "metadata": {
  "kernelspec": {
   "display_name": "Python 3",
   "language": "python",
   "name": "python3"
  },
  "language_info": {
   "codemirror_mode": {
    "name": "ipython",
    "version": 3
   },
   "file_extension": ".py",
   "mimetype": "text/x-python",
   "name": "python",
   "nbconvert_exporter": "python",
   "pygments_lexer": "ipython3",
   "version": "3.8.8"
  },
  "toc-autonumbering": true,
  "toc-showcode": false,
  "toc-showmarkdowntxt": true,
  "toc-showtags": false
 },
 "nbformat": 4,
 "nbformat_minor": 5
}
