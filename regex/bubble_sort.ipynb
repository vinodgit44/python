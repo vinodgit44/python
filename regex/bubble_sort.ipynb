{
 "cells": [
  {
   "cell_type": "markdown",
   "id": "b21cf4da-b140-4ce7-9d0e-08b04e22cdfc",
   "metadata": {},
   "source": [
    "bubble sort"
   ]
  },
  {
   "cell_type": "code",
   "execution_count": 1,
   "id": "1b60dc84-0906-43c5-884f-caf43ac71db6",
   "metadata": {},
   "outputs": [],
   "source": [
    "a=[1,3,2,56,45,69,55,2,6,5,89,45,6,12,36,54,69]\n"
   ]
  },
  {
   "cell_type": "code",
   "execution_count": 2,
   "id": "2c21bfc4-bdcb-4259-88d0-c0e9a86bcd3d",
   "metadata": {},
   "outputs": [
    {
     "data": {
      "text/plain": [
       "[1, 2, 2, 3, 5, 6, 6, 12, 36, 45, 45, 54, 55, 56, 69, 69, 89]"
      ]
     },
     "execution_count": 2,
     "metadata": {},
     "output_type": "execute_result"
    }
   ],
   "source": [
    "for j in range(len(a)):\n",
    "    for i in range(len(a)-1):\n",
    "        if a[i]>=a[i+1]:\n",
    "            a[i],a[i+1]=a[i+1],a[i]\n",
    "            \n",
    "        else:\n",
    "            pass\n",
    "        \n",
    "        \n",
    "a   "
   ]
  },
  {
   "cell_type": "code",
   "execution_count": null,
   "id": "5ca2733d-0b8f-464c-9aa0-3704b79f3ad7",
   "metadata": {},
   "outputs": [],
   "source": []
  },
  {
   "cell_type": "code",
   "execution_count": null,
   "id": "c01323b3-d1bc-4bc7-9a91-d67dfb3cce4e",
   "metadata": {},
   "outputs": [],
   "source": [
    "insertion sort"
   ]
  }
 ],
 "metadata": {
  "kernelspec": {
   "display_name": "Python 3",
   "language": "python",
   "name": "python3"
  },
  "language_info": {
   "codemirror_mode": {
    "name": "ipython",
    "version": 3
   },
   "file_extension": ".py",
   "mimetype": "text/x-python",
   "name": "python",
   "nbconvert_exporter": "python",
   "pygments_lexer": "ipython3",
   "version": "3.8.8"
  }
 },
 "nbformat": 4,
 "nbformat_minor": 5
}
