{
 "cells": [
  {
   "cell_type": "markdown",
   "id": "614c192a-a7fe-4cdf-a0d2-5d66a512fde6",
   "metadata": {},
   "source": [
    "multithreading:-  when multiple threads trying to change same variable we need to lock the process "
   ]
  },
  {
   "cell_type": "code",
   "execution_count": 19,
   "id": "566ec619-c842-48c8-ba72-c0fedb07c59a",
   "metadata": {},
   "outputs": [
    {
     "name": "stdout",
     "output_type": "stream",
     "text": [
      "start value 0\n",
      "end value 1\n"
     ]
    }
   ],
   "source": [
    "\n",
    "from threading import Thread\n",
    "import time\n",
    "\n",
    "db_val=0\n",
    "def increase():\n",
    "    \n",
    "    global db_val\n",
    "    loc_val=db_val\n",
    "    loc_val+=1\n",
    "    time.sleep(0.1)\n",
    "    \n",
    "    db_val=loc_val\n",
    "\n",
    "\n",
    "\n",
    "if __name__ ==\"__main__\":\n",
    "\n",
    "    print(\"start value\",db_val)\n",
    "    thread1=Thread(target=increase)\n",
    "    thread2=Thread(target=increase)\n",
    "\n",
    "\n",
    "    thread1.start()\n",
    "    thread2.start()\n",
    "\n",
    "    thread1.join()\n",
    "    thread2.join()\n",
    "\n",
    "\n",
    "    print(\"end value\",db_val)"
   ]
  },
  {
   "cell_type": "markdown",
   "id": "d91dc898-b8cd-4c45-9d85-11af8f4af2f9",
   "metadata": {},
   "source": [
    "in above code we run increase method twice so end value should be 2 but it is one because a race condition happened here. A race condition occurs when two or more threads can access shared data and they try to change it at the same time. "
   ]
  },
  {
   "cell_type": "code",
   "execution_count": null,
   "id": "b91f46e0-318c-481a-908a-bcfe0540f44f",
   "metadata": {},
   "outputs": [],
   "source": []
  },
  {
   "cell_type": "markdown",
   "id": "01ea9e2c-7d6e-41fa-a26b-7198414dcc79",
   "metadata": {},
   "source": [
    "to prevent race condition we use lock "
   ]
  },
  {
   "cell_type": "code",
   "execution_count": 18,
   "id": "fcad1a6f-da4c-4c9f-b5e1-d69d25ff3d0c",
   "metadata": {},
   "outputs": [
    {
     "name": "stdout",
     "output_type": "stream",
     "text": [
      "start value 0\n",
      "end value 2\n"
     ]
    }
   ],
   "source": [
    "\n",
    "from threading import Thread,Lock\n",
    "import time\n",
    "\n",
    "db_val=0\n",
    "def increase(lock):\n",
    "    lock.acquire()\n",
    "    global db_val\n",
    "    loc_val=db_val\n",
    "    loc_val+=1\n",
    "    time.sleep(0.1)\n",
    " \n",
    "    db_val=loc_val\n",
    "    lock.release()\n",
    "\n",
    "\n",
    "if __name__ ==\"__main__\":\n",
    "    lock=Lock()\n",
    "\n",
    "    print(\"start value\",db_val)\n",
    "    thread1=Thread(target=increase,args=(lock,))\n",
    "    thread2=Thread(target=increase,args=(lock,))\n",
    "\n",
    "\n",
    "    thread1.start()\n",
    "    thread2.start()\n",
    "\n",
    "    thread1.join()\n",
    "    thread2.join()\n",
    "\n",
    "\n",
    "    print(\"end value\",db_val)"
   ]
  },
  {
   "cell_type": "markdown",
   "id": "c6eb4b37-4881-4c70-a34d-0fb7f508ea73",
   "metadata": {},
   "source": [
    "Queues:- can be used for thread-safe/process-safe data exchanges and data processing both in a multithreaded and a multiprocessing environment."
   ]
  },
  {
   "cell_type": "code",
   "execution_count": 25,
   "id": "eb14b3ad-109e-4bcb-8872-1e7ff617b218",
   "metadata": {},
   "outputs": [
    {
     "name": "stdout",
     "output_type": "stream",
     "text": [
      "1\n",
      "2\n",
      "3\n",
      "4\n",
      "end main\n"
     ]
    }
   ],
   "source": [
    "\n",
    "from threading import Thread,Lock\n",
    "import time\n",
    "from queue import Queue\n",
    "\n",
    "\n",
    "if __name__ ==\"__main__\":\n",
    "    q=Queue()\n",
    "    q.put(1)\n",
    "    q.put(2)\n",
    "    q.put(3)\n",
    "    q.put(4)\n",
    "    print(q.get())\n",
    "    print(q.get())\n",
    "    print(q.get())\n",
    "    print(q.get())\n",
    "    \n",
    "\n",
    "    print(\"end main\")"
   ]
  },
  {
   "cell_type": "code",
   "execution_count": 32,
   "id": "abc964de-b028-417e-b3dc-7e99907450c8",
   "metadata": {},
   "outputs": [
    {
     "name": "stdout",
     "output_type": "stream",
     "text": [
      "in Thread1 got 0\n",
      "in Thread1 got 1\n",
      "in Thread1 got 2\n",
      "in Thread7 got 3\n",
      "in Thread8 got 4\n",
      "in Thread9 got 5\n",
      "in Thread10 got 6\n",
      "in Thread10 got 16\n",
      "in Thread2 got 7\n",
      "in Thread5 got 9\n",
      "in Thread5 got 19\n",
      "in Thread3 got 11\n",
      "in Thread7 got 12\n",
      "in Thread6 got 13\n",
      "in Thread8 got 14\n",
      "in Thread9 got 15\n",
      "in Thread10 got 17\n",
      "in Thread4 got 8\n",
      "in Thread2 got 18\n",
      "in Thread1 got 10\n",
      "main done\n"
     ]
    }
   ],
   "source": [
    "from threading import Thread, Lock, current_thread\n",
    "from queue import Queue\n",
    "\n",
    "def worker(q, lock):\n",
    "    while True:\n",
    "        value = q.get()  # blocks until the item is available\n",
    "\n",
    "        # do stuff...\n",
    "        with lock:\n",
    "            # prevent printing at the same time with this lock\n",
    "            print(f\"in {current_thread().name} got {value}\")\n",
    "        # ...\n",
    "\n",
    "        # For each get(), a subsequent call to task_done() tells the queue\n",
    "        # that the processing on this item is complete.\n",
    "        # If all tasks are done, q.join() can unblock\n",
    "        q.task_done()\n",
    "\n",
    "\n",
    "if __name__ == '__main__':\n",
    "    q = Queue()\n",
    "    num_threads = 10\n",
    "    lock = Lock()\n",
    "\n",
    "    for i in range(num_threads):\n",
    "        t = Thread(name=f\"Thread{i+1}\", target=worker, args=(q, lock))\n",
    "        t.daemon = True  # dies when the main thread dies\n",
    "        t.start()\n",
    "    \n",
    "    # fill the queue with items\n",
    "    for x in range(20):\n",
    "        q.put(x)\n",
    "\n",
    "    q.join()  # Blocks until all items in the queue have been gotten and processed.\n",
    "\n",
    "    print('main done')\n"
   ]
  },
  {
   "cell_type": "code",
   "execution_count": null,
   "id": "d22335de-d3cd-4652-ae5e-97608898a897",
   "metadata": {},
   "outputs": [],
   "source": []
  },
  {
   "cell_type": "code",
   "execution_count": null,
   "id": "fa432563-2ee2-4b96-a337-c5bc9f08cd76",
   "metadata": {},
   "outputs": [],
   "source": []
  },
  {
   "cell_type": "code",
   "execution_count": null,
   "id": "2a081f95-ad02-428f-9612-e788f87183c8",
   "metadata": {},
   "outputs": [],
   "source": []
  }
 ],
 "metadata": {
  "kernelspec": {
   "display_name": "Python 3",
   "language": "python",
   "name": "python3"
  },
  "language_info": {
   "codemirror_mode": {
    "name": "ipython",
    "version": 3
   },
   "file_extension": ".py",
   "mimetype": "text/x-python",
   "name": "python",
   "nbconvert_exporter": "python",
   "pygments_lexer": "ipython3",
   "version": "3.8.8"
  }
 },
 "nbformat": 4,
 "nbformat_minor": 5
}
