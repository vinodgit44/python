{
 "cells": [
  {
   "cell_type": "markdown",
   "id": "828c85e9-e9bc-40a2-b66b-b9d72680c91b",
   "metadata": {},
   "source": [
    "generators are functions for iteration  and very much memory efficient"
   ]
  },
  {
   "cell_type": "code",
   "execution_count": 1,
   "id": "641f7f31-b8b6-4986-8f91-410f23f723eb",
   "metadata": {},
   "outputs": [
    {
     "name": "stdout",
     "output_type": "stream",
     "text": [
      "<generator object generator at 0x7ffa5043fb30>\n"
     ]
    }
   ],
   "source": [
    "def generator():\n",
    "    yield \"a\"\n",
    "    yield 3\n",
    "    yield 2\n",
    "    \n",
    "a=generator()\n",
    "print(a)\n"
   ]
  },
  {
   "cell_type": "code",
   "execution_count": 2,
   "id": "5c6d3a87-e27e-4440-ba69-34dbaa4a9d76",
   "metadata": {},
   "outputs": [
    {
     "name": "stdout",
     "output_type": "stream",
     "text": [
      "a\n",
      "3\n",
      "2\n"
     ]
    }
   ],
   "source": [
    "for i in a:\n",
    "    print(i)"
   ]
  },
  {
   "cell_type": "code",
   "execution_count": 3,
   "id": "496f2427-f870-4198-844b-96e7f0e43bde",
   "metadata": {},
   "outputs": [
    {
     "name": "stdout",
     "output_type": "stream",
     "text": [
      "a\n",
      "3\n",
      "2\n"
     ]
    }
   ],
   "source": [
    "g=generator()\n",
    "value=next(g)\n",
    "print(value)\n",
    "value=next(g)\n",
    "print(value)\n",
    "value=next(g)\n",
    "print(value)"
   ]
  },
  {
   "cell_type": "markdown",
   "id": "1501cbb2-96e0-47fc-96c0-dfc29b1cb9e4",
   "metadata": {},
   "source": [
    "generators save a lot of memory"
   ]
  },
  {
   "cell_type": "code",
   "execution_count": 18,
   "id": "fea08a7d-323d-4cc4-b13c-687c865e5c21",
   "metadata": {},
   "outputs": [
    {
     "name": "stdout",
     "output_type": "stream",
     "text": [
      "45\n",
      "45\n",
      "9016\n",
      "112\n"
     ]
    }
   ],
   "source": [
    "import sys\n",
    "def nums(num):\n",
    "    n=[]\n",
    "    na=0\n",
    "    while na<num:\n",
    "        n.append(na)\n",
    "        na+=1\n",
    "\n",
    "    return n\n",
    "def nums_gen(num):\n",
    "    \n",
    "    na=0\n",
    "    while na<num:\n",
    "        yield na\n",
    "        na+=1\n",
    "        \n",
    "\n",
    "print(sum(nums(10)))\n",
    "print(sum(nums_gen(10)))\n",
    "print(sys.getsizeof(nums(1000)))  #PRINTTING SIZE OF NORMAL FUNCTION\n",
    "print(sys.getsizeof(nums_gen(1000)))#PRINTTING SIZE OF GENERATOR  FUNCTION"
   ]
  },
  {
   "cell_type": "code",
   "execution_count": 23,
   "id": "86a75267-bb54-4614-a78c-d3cfc2580af8",
   "metadata": {},
   "outputs": [],
   "source": [
    "# A simple fibonacci generator function\n",
    "def fib_gen(limit):\n",
    "    a=0\n",
    "    b=1\n",
    "    while a<limit:\n",
    "        yield a\n",
    "        a,b=b,a+b\n",
    "        "
   ]
  },
  {
   "cell_type": "code",
   "execution_count": 25,
   "id": "063c8f87-6fbc-495b-a3ca-1b8346c1fdb2",
   "metadata": {},
   "outputs": [
    {
     "name": "stdout",
     "output_type": "stream",
     "text": [
      "0\n",
      "1\n",
      "1\n",
      "2\n",
      "3\n",
      "5\n",
      "8\n",
      "13\n",
      "21\n"
     ]
    }
   ],
   "source": [
    "for item in fib_gen(30):\n",
    "    print(item)"
   ]
  },
  {
   "cell_type": "code",
   "execution_count": null,
   "id": "d106d119-9def-4251-8d10-317981663695",
   "metadata": {},
   "outputs": [],
   "source": []
  },
  {
   "cell_type": "code",
   "execution_count": null,
   "id": "dab71b12-7954-421d-9f57-752f177b7626",
   "metadata": {},
   "outputs": [],
   "source": []
  },
  {
   "cell_type": "code",
   "execution_count": null,
   "id": "0174c37b-ce4b-454b-a7e7-2802806cfc6c",
   "metadata": {},
   "outputs": [],
   "source": []
  },
  {
   "cell_type": "code",
   "execution_count": null,
   "id": "56c02561-f58f-4607-ae7d-baf4e09a61f3",
   "metadata": {},
   "outputs": [],
   "source": []
  }
 ],
 "metadata": {
  "kernelspec": {
   "display_name": "Python 3",
   "language": "python",
   "name": "python3"
  },
  "language_info": {
   "codemirror_mode": {
    "name": "ipython",
    "version": 3
   },
   "file_extension": ".py",
   "mimetype": "text/x-python",
   "name": "python",
   "nbconvert_exporter": "python",
   "pygments_lexer": "ipython3",
   "version": "3.8.8"
  }
 },
 "nbformat": 4,
 "nbformat_minor": 5
}
